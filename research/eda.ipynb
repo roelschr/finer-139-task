{
 "cells": [
  {
   "cell_type": "code",
   "execution_count": 1,
   "metadata": {},
   "outputs": [],
   "source": [
    "%load_ext autoreload\n",
    "%autoreload 2"
   ]
  },
  {
   "cell_type": "markdown",
   "metadata": {},
   "source": [
    "# FiNER-139 dataset analysis\n",
    "\n",
    "Dataset [reference](https://huggingface.co/datasets/nlpaueb/finer-139?row=0) and [paper](https://arxiv.org/abs/2203.06482).\n",
    "\n",
    "This dataset focuses on Financial entities, as it comprises 1.1M sentences annotated with eXtensive Business Reporting Language (XBRL) tags.\n",
    "\n",
    "- Language: English.\n",
    "- Market: US.\n",
    "- Sample:\n",
    "    ```\n",
    "    {\n",
    "        'id': 40\n",
    "        'tokens': ['In', 'March', '2014', ',', 'the', 'Rialto', 'segment', 'issued', 'an', 'additional', '$', '100', 'million', 'of', 'the', '7.00', '%', 'Senior', 'Notes', ',', 'at', 'a', 'price', 'of', '102.25', '%', 'of', 'their', 'face', 'value', 'in', 'a', 'private', 'placement', '.']\n",
    "        'ner_tags': [0, 0, 0, 0, 0, 0, 0, 0, 0, 0, 0, 37, 0, 0, 0, 41, 0, 0, 0, 0, 0, 0, 0, 0, 0, 0, 0, 0, 0, 0, 0, 0, 0, 0, 0]\n",
    "    }\n",
    "    ```\n"
   ]
  },
  {
   "cell_type": "markdown",
   "metadata": {},
   "source": [
    "## Checking out the dataset\n",
    "\n",
    "Let's start by checking out what we get by loading the dataset with huggingface."
   ]
  },
  {
   "cell_type": "code",
   "execution_count": 2,
   "metadata": {},
   "outputs": [
    {
     "name": "stderr",
     "output_type": "stream",
     "text": [
      "/home/roelschr/workspace/finer-139-task/.venv/lib/python3.10/site-packages/tqdm/auto.py:21: TqdmWarning: IProgress not found. Please update jupyter and ipywidgets. See https://ipywidgets.readthedocs.io/en/stable/user_install.html\n",
      "  from .autonotebook import tqdm as notebook_tqdm\n"
     ]
    },
    {
     "name": "stdout",
     "output_type": "stream",
     "text": [
      "DatasetDict({\n",
      "    train: Dataset({\n",
      "        features: ['id', 'tokens', 'ner_tags'],\n",
      "        num_rows: 900384\n",
      "    })\n",
      "    validation: Dataset({\n",
      "        features: ['id', 'tokens', 'ner_tags'],\n",
      "        num_rows: 112494\n",
      "    })\n",
      "    test: Dataset({\n",
      "        features: ['id', 'tokens', 'ner_tags'],\n",
      "        num_rows: 108378\n",
      "    })\n",
      "})\n"
     ]
    }
   ],
   "source": [
    "import datasets\n",
    "\n",
    "ds = datasets.load_dataset(\"nlpaueb/finer-139\")\n",
    "print(ds)"
   ]
  },
  {
   "cell_type": "code",
   "execution_count": 3,
   "metadata": {},
   "outputs": [
    {
     "name": "stdout",
     "output_type": "stream",
     "text": [
      "['O', 'B-AccrualForEnvironmentalLossContingencies', 'B-AcquiredFiniteLivedIntangibleAssetsWeightedAverageUsefulLife', 'I-AcquiredFiniteLivedIntangibleAssetsWeightedAverageUsefulLife', 'B-AllocatedShareBasedCompensationExpense', 'B-AmortizationOfFinancingCosts', 'B-AmortizationOfIntangibleAssets', 'I-AmortizationOfIntangibleAssets', 'B-AntidilutiveSecuritiesExcludedFromComputationOfEarningsPerShareAmount', 'I-AntidilutiveSecuritiesExcludedFromComputationOfEarningsPerShareAmount', 'B-AreaOfRealEstateProperty', 'I-AreaOfRealEstateProperty', 'B-AssetImpairmentCharges', 'B-BusinessAcquisitionEquityInterestsIssuedOrIssuableNumberOfSharesIssued', 'B-BusinessAcquisitionPercentageOfVotingInterestsAcquired', 'I-BusinessAcquisitionPercentageOfVotingInterestsAcquired', 'B-BusinessCombinationAcquisitionRelatedCosts', 'B-BusinessCombinationConsiderationTransferred1', 'B-BusinessCombinationContingentConsiderationLiability', 'B-BusinessCombinationRecognizedIdentifiableAssetsAcquiredAndLiabilitiesAssumedIntangibleAssetsOtherThanGoodwill', 'B-BusinessCombinationRecognizedIdentifiableAssetsAcquiredAndLiabilitiesAssumedIntangibles', 'B-CapitalizedContractCostAmortization', 'B-CashAndCashEquivalentsFairValueDisclosure', 'B-ClassOfWarrantOrRightExercisePriceOfWarrantsOrRights1', 'B-CommonStockCapitalSharesReservedForFutureIssuance', 'B-CommonStockDividendsPerShareDeclared', 'B-CommonStockParOrStatedValuePerShare', 'B-CommonStockSharesAuthorized', 'I-CommonStockSharesAuthorized', 'B-CommonStockSharesOutstanding', 'B-ConcentrationRiskPercentage1', 'B-ContractWithCustomerLiability', 'B-ContractWithCustomerLiabilityRevenueRecognized', 'B-CumulativeEffectOfNewAccountingPrincipleInPeriodOfAdoption', 'B-DebtInstrumentBasisSpreadOnVariableRate1', 'B-DebtInstrumentCarryingAmount', 'B-DebtInstrumentConvertibleConversionPrice1', 'B-DebtInstrumentFaceAmount', 'I-DebtInstrumentFaceAmount', 'B-DebtInstrumentFairValue', 'B-DebtInstrumentInterestRateEffectivePercentage', 'B-DebtInstrumentInterestRateStatedPercentage', 'B-DebtInstrumentMaturityDate', 'I-DebtInstrumentMaturityDate', 'B-DebtInstrumentRedemptionPricePercentage', 'B-DebtInstrumentTerm', 'I-DebtInstrumentTerm', 'B-DebtInstrumentUnamortizedDiscount', 'B-DebtWeightedAverageInterestRate', 'B-DeferredFinanceCostsGross', 'B-DeferredFinanceCostsNet', 'B-DefinedBenefitPlanContributionsByEmployer', 'B-DefinedContributionPlanCostRecognized', 'B-Depreciation', 'B-DerivativeFixedInterestRate', 'B-DerivativeNotionalAmount', 'B-DisposalGroupIncludingDiscontinuedOperationConsideration', 'B-EffectiveIncomeTaxRateContinuingOperations', 'B-EffectiveIncomeTaxRateReconciliationAtFederalStatutoryIncomeTaxRate', 'B-EmployeeServiceShareBasedCompensationNonvestedAwardsTotalCompensationCostNotYetRecognized', 'B-EmployeeServiceShareBasedCompensationNonvestedAwardsTotalCompensationCostNotYetRecognizedPeriodForRecognition1', 'I-EmployeeServiceShareBasedCompensationNonvestedAwardsTotalCompensationCostNotYetRecognizedPeriodForRecognition1', 'B-EmployeeServiceShareBasedCompensationNonvestedAwardsTotalCompensationCostNotYetRecognizedShareBasedAwardsOtherThanOptions', 'B-EmployeeServiceShareBasedCompensationTaxBenefitFromCompensationExpense', 'B-EquityMethodInvestmentOwnershipPercentage', 'I-EquityMethodInvestmentOwnershipPercentage', 'B-EquityMethodInvestments', 'B-FiniteLivedIntangibleAssetUsefulLife', 'I-FiniteLivedIntangibleAssetUsefulLife', 'B-GainsLossesOnExtinguishmentOfDebt', 'B-Goodwill', 'B-GoodwillImpairmentLoss', 'B-GuaranteeObligationsMaximumExposure', 'B-IncomeLossFromEquityMethodInvestments', 'B-IncomeTaxExpenseBenefit', 'B-InterestExpense', 'B-InterestExpenseDebt', 'B-LeaseAndRentalExpense', 'B-LesseeOperatingLeaseRenewalTerm', 'I-LesseeOperatingLeaseRenewalTerm', 'B-LesseeOperatingLeaseTermOfContract', 'I-LesseeOperatingLeaseTermOfContract', 'B-LettersOfCreditOutstandingAmount', 'B-LineOfCredit', 'B-LineOfCreditFacilityCommitmentFeePercentage', 'B-LineOfCreditFacilityCurrentBorrowingCapacity', 'B-LineOfCreditFacilityInterestRateAtPeriodEnd', 'B-LineOfCreditFacilityMaximumBorrowingCapacity', 'B-LineOfCreditFacilityRemainingBorrowingCapacity', 'B-LineOfCreditFacilityUnusedCapacityCommitmentFeePercentage', 'B-LongTermDebt', 'B-LongTermDebtFairValue', 'B-LossContingencyAccrualAtCarryingValue', 'B-LossContingencyDamagesSoughtValue', 'B-LossContingencyEstimateOfPossibleLoss', 'B-LossContingencyPendingClaimsNumber', 'I-LossContingencyPendingClaimsNumber', 'B-MinorityInterestOwnershipPercentageByNoncontrollingOwners', 'B-MinorityInterestOwnershipPercentageByParent', 'B-NumberOfOperatingSegments', 'B-NumberOfRealEstateProperties', 'I-NumberOfRealEstateProperties', 'B-NumberOfReportableSegments', 'B-OperatingLeaseCost', 'B-OperatingLeaseExpense', 'B-OperatingLeaseLiability', 'B-OperatingLeasePayments', 'B-OperatingLeaseRightOfUseAsset', 'B-OperatingLeaseWeightedAverageDiscountRatePercent', 'B-OperatingLeaseWeightedAverageRemainingLeaseTerm1', 'I-OperatingLeaseWeightedAverageRemainingLeaseTerm1', 'B-OperatingLeasesRentExpenseNet', 'B-OperatingLossCarryforwards', 'B-PaymentsToAcquireBusinessesGross', 'B-PaymentsToAcquireBusinessesNetOfCashAcquired', 'B-PreferredStockDividendRatePercentage', 'B-PreferredStockSharesAuthorized', 'I-PreferredStockSharesAuthorized', 'B-ProceedsFromIssuanceOfCommonStock', 'B-PropertyPlantAndEquipmentUsefulLife', 'I-PropertyPlantAndEquipmentUsefulLife', 'B-PublicUtilitiesRequestedRateIncreaseDecreaseAmount', 'B-RelatedPartyTransactionAmountsOfTransaction', 'I-RelatedPartyTransactionAmountsOfTransaction', 'B-RelatedPartyTransactionExpensesFromTransactionsWithRelatedParty', 'I-RelatedPartyTransactionExpensesFromTransactionsWithRelatedParty', 'B-RepaymentsOfDebt', 'B-RestructuringAndRelatedCostExpectedCost1', 'B-RestructuringCharges', 'B-RevenueFromContractWithCustomerExcludingAssessedTax', 'B-RevenueFromContractWithCustomerIncludingAssessedTax', 'B-RevenueFromRelatedParties', 'B-RevenueRemainingPerformanceObligation', 'B-Revenues', 'B-SaleOfStockNumberOfSharesIssuedInTransaction', 'I-SaleOfStockNumberOfSharesIssuedInTransaction', 'B-SaleOfStockPricePerShare', 'B-ShareBasedCompensation', 'B-ShareBasedCompensationArrangementByShareBasedPaymentAwardAwardVestingPeriod1', 'I-ShareBasedCompensationArrangementByShareBasedPaymentAwardAwardVestingPeriod1', 'B-ShareBasedCompensationArrangementByShareBasedPaymentAwardEquityInstrumentsOtherThanOptionsGrantsInPeriod', 'I-ShareBasedCompensationArrangementByShareBasedPaymentAwardEquityInstrumentsOtherThanOptionsGrantsInPeriod', 'B-ShareBasedCompensationArrangementByShareBasedPaymentAwardEquityInstrumentsOtherThanOptionsGrantsInPeriodWeightedAverageGrantDateFairValue', 'B-ShareBasedCompensationArrangementByShareBasedPaymentAwardEquityInstrumentsOtherThanOptionsNonvestedNumber', 'B-ShareBasedCompensationArrangementByShareBasedPaymentAwardEquityInstrumentsOtherThanOptionsVestedInPeriodTotalFairValue', 'B-ShareBasedCompensationArrangementByShareBasedPaymentAwardNumberOfSharesAuthorized', 'I-ShareBasedCompensationArrangementByShareBasedPaymentAwardNumberOfSharesAuthorized', 'B-ShareBasedCompensationArrangementByShareBasedPaymentAwardNumberOfSharesAvailableForGrant', 'B-ShareBasedCompensationArrangementByShareBasedPaymentAwardOptionsExercisesInPeriodTotalIntrinsicValue', 'B-ShareBasedCompensationArrangementByShareBasedPaymentAwardOptionsGrantsInPeriodGross', 'B-ShareBasedCompensationArrangementByShareBasedPaymentAwardOptionsGrantsInPeriodWeightedAverageGrantDateFairValue', 'B-SharePrice', 'B-SharebasedCompensationArrangementBySharebasedPaymentAwardAwardVestingRightsPercentage', 'I-SharebasedCompensationArrangementBySharebasedPaymentAwardAwardVestingRightsPercentage', 'B-SharebasedCompensationArrangementBySharebasedPaymentAwardExpirationPeriod', 'I-SharebasedCompensationArrangementBySharebasedPaymentAwardExpirationPeriod', 'B-StockIssuedDuringPeriodSharesNewIssues', 'I-StockIssuedDuringPeriodSharesNewIssues', 'B-StockRepurchaseProgramAuthorizedAmount1', 'B-StockRepurchaseProgramRemainingAuthorizedRepurchaseAmount1', 'B-StockRepurchasedAndRetiredDuringPeriodShares', 'B-StockRepurchasedDuringPeriodShares', 'I-StockRepurchasedDuringPeriodShares', 'B-SupplementalInformationForPropertyCasualtyInsuranceUnderwritersPriorYearClaimsAndClaimsAdjustmentExpense', 'B-TreasuryStockAcquiredAverageCostPerShare', 'B-TreasuryStockSharesAcquired', 'I-TreasuryStockSharesAcquired', 'B-TreasuryStockValueAcquiredCostMethod', 'B-UnrecognizedTaxBenefits', 'B-UnrecognizedTaxBenefitsThatWouldImpactEffectiveTaxRate', 'I-DeferredFinanceCostsGross', 'I-CommonStockParOrStatedValuePerShare', 'I-LossContingencyEstimateOfPossibleLoss', 'I-DefinedContributionPlanCostRecognized', 'I-DebtInstrumentFairValue', 'I-ContractWithCustomerLiabilityRevenueRecognized', 'I-RevenueRemainingPerformanceObligation', 'I-EmployeeServiceShareBasedCompensationNonvestedAwardsTotalCompensationCostNotYetRecognized', 'I-DebtInstrumentInterestRateStatedPercentage', 'I-OperatingLossCarryforwards', 'I-MinorityInterestOwnershipPercentageByNoncontrollingOwners', 'I-InterestExpense', 'I-LongTermDebt', 'I-ShareBasedCompensation', 'I-DebtWeightedAverageInterestRate', 'I-DebtInstrumentCarryingAmount', 'I-DebtInstrumentConvertibleConversionPrice1', 'I-IncomeTaxExpenseBenefit', 'I-ShareBasedCompensationArrangementByShareBasedPaymentAwardOptionsGrantsInPeriodWeightedAverageGrantDateFairValue', 'I-EmployeeServiceShareBasedCompensationNonvestedAwardsTotalCompensationCostNotYetRecognizedShareBasedAwardsOtherThanOptions', 'I-EquityMethodInvestments', 'I-DebtInstrumentUnamortizedDiscount', 'I-GainsLossesOnExtinguishmentOfDebt', 'I-ShareBasedCompensationArrangementByShareBasedPaymentAwardNumberOfSharesAvailableForGrant', 'I-BusinessCombinationRecognizedIdentifiableAssetsAcquiredAndLiabilitiesAssumedIntangibleAssetsOtherThanGoodwill', 'I-PreferredStockDividendRatePercentage', 'I-RevenueFromContractWithCustomerIncludingAssessedTax', 'I-OperatingLeaseWeightedAverageDiscountRatePercent', 'I-LineOfCredit', 'I-LineOfCreditFacilityMaximumBorrowingCapacity', 'I-EffectiveIncomeTaxRateReconciliationAtFederalStatutoryIncomeTaxRate', 'I-LineOfCreditFacilityCommitmentFeePercentage', 'I-BusinessCombinationConsiderationTransferred1', 'I-CommonStockDividendsPerShareDeclared', 'I-DebtInstrumentBasisSpreadOnVariableRate1', 'I-DisposalGroupIncludingDiscontinuedOperationConsideration', 'I-ShareBasedCompensationArrangementByShareBasedPaymentAwardOptionsGrantsInPeriodGross', 'I-CommonStockSharesOutstanding', 'I-AmortizationOfFinancingCosts', 'I-LineOfCreditFacilityCurrentBorrowingCapacity', 'I-TreasuryStockValueAcquiredCostMethod', 'I-ShareBasedCompensationArrangementByShareBasedPaymentAwardEquityInstrumentsOtherThanOptionsNonvestedNumber', 'I-DebtInstrumentInterestRateEffectivePercentage', 'I-SaleOfStockPricePerShare', 'I-CapitalizedContractCostAmortization', 'I-RestructuringCharges', 'I-ShareBasedCompensationArrangementByShareBasedPaymentAwardEquityInstrumentsOtherThanOptionsVestedInPeriodTotalFairValue', 'I-AccrualForEnvironmentalLossContingencies', 'I-CashAndCashEquivalentsFairValueDisclosure', 'I-ProceedsFromIssuanceOfCommonStock', 'I-Revenues', 'I-BusinessCombinationRecognizedIdentifiableAssetsAcquiredAndLiabilitiesAssumedIntangibles', 'I-LettersOfCreditOutstandingAmount', 'I-ShareBasedCompensationArrangementByShareBasedPaymentAwardEquityInstrumentsOtherThanOptionsGrantsInPeriodWeightedAverageGrantDateFairValue', 'I-OperatingLeasePayments', 'I-LineOfCreditFacilityRemainingBorrowingCapacity', 'I-PaymentsToAcquireBusinessesGross', 'I-TreasuryStockAcquiredAverageCostPerShare', 'I-DeferredFinanceCostsNet', 'I-StockRepurchaseProgramAuthorizedAmount1', 'I-InterestExpenseDebt', 'I-ContractWithCustomerLiability', 'I-OperatingLeaseExpense', 'I-Depreciation', 'I-AllocatedShareBasedCompensationExpense', 'I-LossContingencyAccrualAtCarryingValue', 'I-LineOfCreditFacilityUnusedCapacityCommitmentFeePercentage', 'I-SupplementalInformationForPropertyCasualtyInsuranceUnderwritersPriorYearClaimsAndClaimsAdjustmentExpense', 'I-OperatingLeaseLiability', 'I-RevenueFromRelatedParties', 'I-PaymentsToAcquireBusinessesNetOfCashAcquired', 'I-BusinessCombinationContingentConsiderationLiability', 'I-LossContingencyDamagesSoughtValue', 'I-NumberOfOperatingSegments', 'I-BusinessAcquisitionEquityInterestsIssuedOrIssuableNumberOfSharesIssued', 'I-OperatingLeaseRightOfUseAsset', 'I-BusinessCombinationAcquisitionRelatedCosts', 'I-UnrecognizedTaxBenefits', 'I-GuaranteeObligationsMaximumExposure', 'I-RestructuringAndRelatedCostExpectedCost1', 'I-DefinedBenefitPlanContributionsByEmployer', 'I-OperatingLeaseCost', 'I-DerivativeFixedInterestRate', 'I-Goodwill', 'I-GoodwillImpairmentLoss', 'I-CommonStockCapitalSharesReservedForFutureIssuance', 'I-StockRepurchasedAndRetiredDuringPeriodShares', 'I-EmployeeServiceShareBasedCompensationTaxBenefitFromCompensationExpense', 'I-IncomeLossFromEquityMethodInvestments', 'I-NumberOfReportableSegments', 'I-LongTermDebtFairValue', 'I-RepaymentsOfDebt', 'I-ConcentrationRiskPercentage1', 'I-DebtInstrumentRedemptionPricePercentage', 'I-CumulativeEffectOfNewAccountingPrincipleInPeriodOfAdoption', 'I-SharePrice', 'I-UnrecognizedTaxBenefitsThatWouldImpactEffectiveTaxRate', 'I-ShareBasedCompensationArrangementByShareBasedPaymentAwardOptionsExercisesInPeriodTotalIntrinsicValue', 'I-EffectiveIncomeTaxRateContinuingOperations', 'I-RevenueFromContractWithCustomerExcludingAssessedTax', 'I-StockRepurchaseProgramRemainingAuthorizedRepurchaseAmount1', 'I-LineOfCreditFacilityInterestRateAtPeriodEnd', 'I-ClassOfWarrantOrRightExercisePriceOfWarrantsOrRights1', 'I-OperatingLeasesRentExpenseNet', 'I-LeaseAndRentalExpense', 'I-PublicUtilitiesRequestedRateIncreaseDecreaseAmount', 'I-MinorityInterestOwnershipPercentageByParent', 'I-AssetImpairmentCharges', 'I-DerivativeNotionalAmount']\n"
     ]
    }
   ],
   "source": [
    "tags = ds[\"train\"].features[\"ner_tags\"].feature.names\n",
    "print(tags)"
   ]
  },
  {
   "cell_type": "markdown",
   "metadata": {},
   "source": [
    "To clear things out, the `B-` prefix denotes the beginning of the named entity. The `I-` prefix means that this token is inside the named entity. The `O-` tag means that the corresponding word is not an entity. This means `I-` should always come with a `B-`, therefore it won't make sense to select `I-` tags without their respective `B-` tags, especially with FiNER-139. This dataset is especially complex because most of the entities are numerical values. This means that the context around the entity matters a lot more when we compare this with other NER tasks."
   ]
  },
  {
   "cell_type": "code",
   "execution_count": 4,
   "metadata": {},
   "outputs": [
    {
     "name": "stdout",
     "output_type": "stream",
     "text": [
      "{'B': {'CashAndCashEquivalentsFairValueDisclosure', 'DerivativeNotionalAmount', 'OperatingLeaseExpense', 'LineOfCreditFacilityRemainingBorrowingCapacity', 'StockIssuedDuringPeriodSharesNewIssues', 'SharebasedCompensationArrangementBySharebasedPaymentAwardExpirationPeriod', 'LongTermDebt', 'StockRepurchasedAndRetiredDuringPeriodShares', 'GoodwillImpairmentLoss', 'DefinedBenefitPlanContributionsByEmployer', 'LossContingencyDamagesSoughtValue', 'RelatedPartyTransactionExpensesFromTransactionsWithRelatedParty', 'Revenues', 'StockRepurchasedDuringPeriodShares', 'IncomeLossFromEquityMethodInvestments', 'EmployeeServiceShareBasedCompensationNonvestedAwardsTotalCompensationCostNotYetRecognized', 'PreferredStockSharesAuthorized', 'ShareBasedCompensationArrangementByShareBasedPaymentAwardEquityInstrumentsOtherThanOptionsGrantsInPeriod', 'TreasuryStockValueAcquiredCostMethod', 'RepaymentsOfDebt', 'AntidilutiveSecuritiesExcludedFromComputationOfEarningsPerShareAmount', 'TreasuryStockSharesAcquired', 'DeferredFinanceCostsGross', 'NumberOfRealEstateProperties', 'AccrualForEnvironmentalLossContingencies', 'OperatingLossCarryforwards', 'ShareBasedCompensation', 'IncomeTaxExpenseBenefit', 'LossContingencyPendingClaimsNumber', 'ShareBasedCompensationArrangementByShareBasedPaymentAwardOptionsExercisesInPeriodTotalIntrinsicValue', 'AcquiredFiniteLivedIntangibleAssetsWeightedAverageUsefulLife', 'InterestExpense', 'CommonStockSharesOutstanding', 'NumberOfOperatingSegments', 'OperatingLeaseWeightedAverageRemainingLeaseTerm1', 'DebtInstrumentConvertibleConversionPrice1', 'DebtWeightedAverageInterestRate', 'LossContingencyAccrualAtCarryingValue', 'BusinessAcquisitionPercentageOfVotingInterestsAcquired', 'BusinessAcquisitionEquityInterestsIssuedOrIssuableNumberOfSharesIssued', 'LossContingencyEstimateOfPossibleLoss', 'DebtInstrumentUnamortizedDiscount', 'PreferredStockDividendRatePercentage', 'RevenueFromRelatedParties', 'InterestExpenseDebt', 'DebtInstrumentFairValue', 'FiniteLivedIntangibleAssetUsefulLife', 'DerivativeFixedInterestRate', 'MinorityInterestOwnershipPercentageByParent', 'LesseeOperatingLeaseTermOfContract', 'EmployeeServiceShareBasedCompensationNonvestedAwardsTotalCompensationCostNotYetRecognizedShareBasedAwardsOtherThanOptions', 'AllocatedShareBasedCompensationExpense', 'CommonStockParOrStatedValuePerShare', 'DeferredFinanceCostsNet', 'OperatingLeasesRentExpenseNet', 'BusinessCombinationContingentConsiderationLiability', 'RelatedPartyTransactionAmountsOfTransaction', 'GuaranteeObligationsMaximumExposure', 'LineOfCreditFacilityCommitmentFeePercentage', 'BusinessCombinationConsiderationTransferred1', 'AmortizationOfFinancingCosts', 'AreaOfRealEstateProperty', 'Goodwill', 'DebtInstrumentMaturityDate', 'ShareBasedCompensationArrangementByShareBasedPaymentAwardOptionsGrantsInPeriodGross', 'ShareBasedCompensationArrangementByShareBasedPaymentAwardEquityInstrumentsOtherThanOptionsVestedInPeriodTotalFairValue', 'OperatingLeaseRightOfUseAsset', 'DebtInstrumentTerm', 'RestructuringCharges', 'DebtInstrumentFaceAmount', 'LineOfCreditFacilityMaximumBorrowingCapacity', 'EquityMethodInvestments', 'LeaseAndRentalExpense', 'BusinessCombinationRecognizedIdentifiableAssetsAcquiredAndLiabilitiesAssumedIntangibleAssetsOtherThanGoodwill', 'MinorityInterestOwnershipPercentageByNoncontrollingOwners', 'LettersOfCreditOutstandingAmount', 'ShareBasedCompensationArrangementByShareBasedPaymentAwardAwardVestingPeriod1', 'CommonStockDividendsPerShareDeclared', 'CommonStockSharesAuthorized', 'LongTermDebtFairValue', 'AssetImpairmentCharges', 'LineOfCreditFacilityInterestRateAtPeriodEnd', 'ShareBasedCompensationArrangementByShareBasedPaymentAwardEquityInstrumentsOtherThanOptionsNonvestedNumber', 'ShareBasedCompensationArrangementByShareBasedPaymentAwardOptionsGrantsInPeriodWeightedAverageGrantDateFairValue', 'StockRepurchaseProgramAuthorizedAmount1', 'ConcentrationRiskPercentage1', 'OperatingLeaseCost', 'GainsLossesOnExtinguishmentOfDebt', 'ShareBasedCompensationArrangementByShareBasedPaymentAwardNumberOfSharesAvailableForGrant', 'UnrecognizedTaxBenefits', 'DisposalGroupIncludingDiscontinuedOperationConsideration', 'EffectiveIncomeTaxRateReconciliationAtFederalStatutoryIncomeTaxRate', 'RevenueFromContractWithCustomerExcludingAssessedTax', 'DebtInstrumentInterestRateStatedPercentage', 'OperatingLeaseLiability', 'EquityMethodInvestmentOwnershipPercentage', 'ShareBasedCompensationArrangementByShareBasedPaymentAwardNumberOfSharesAuthorized', 'ContractWithCustomerLiability', 'SupplementalInformationForPropertyCasualtyInsuranceUnderwritersPriorYearClaimsAndClaimsAdjustmentExpense', 'LesseeOperatingLeaseRenewalTerm', 'SharebasedCompensationArrangementBySharebasedPaymentAwardAwardVestingRightsPercentage', 'EffectiveIncomeTaxRateContinuingOperations', 'PropertyPlantAndEquipmentUsefulLife', 'Depreciation', 'DefinedContributionPlanCostRecognized', 'BusinessCombinationRecognizedIdentifiableAssetsAcquiredAndLiabilitiesAssumedIntangibles', 'NumberOfReportableSegments', 'DebtInstrumentInterestRateEffectivePercentage', 'RevenueRemainingPerformanceObligation', 'LineOfCredit', 'PublicUtilitiesRequestedRateIncreaseDecreaseAmount', 'OperatingLeaseWeightedAverageDiscountRatePercent', 'RevenueFromContractWithCustomerIncludingAssessedTax', 'ClassOfWarrantOrRightExercisePriceOfWarrantsOrRights1', 'DebtInstrumentCarryingAmount', 'SaleOfStockPricePerShare', 'SharePrice', 'BusinessCombinationAcquisitionRelatedCosts', 'AmortizationOfIntangibleAssets', 'EmployeeServiceShareBasedCompensationNonvestedAwardsTotalCompensationCostNotYetRecognizedPeriodForRecognition1', 'PaymentsToAcquireBusinessesNetOfCashAcquired', 'EmployeeServiceShareBasedCompensationTaxBenefitFromCompensationExpense', 'CapitalizedContractCostAmortization', 'LineOfCreditFacilityCurrentBorrowingCapacity', 'LineOfCreditFacilityUnusedCapacityCommitmentFeePercentage', 'SaleOfStockNumberOfSharesIssuedInTransaction', 'ProceedsFromIssuanceOfCommonStock', 'TreasuryStockAcquiredAverageCostPerShare', 'CommonStockCapitalSharesReservedForFutureIssuance', 'CumulativeEffectOfNewAccountingPrincipleInPeriodOfAdoption', 'OperatingLeasePayments', 'StockRepurchaseProgramRemainingAuthorizedRepurchaseAmount1', 'UnrecognizedTaxBenefitsThatWouldImpactEffectiveTaxRate', 'PaymentsToAcquireBusinessesGross', 'DebtInstrumentRedemptionPricePercentage', 'ContractWithCustomerLiabilityRevenueRecognized', 'RestructuringAndRelatedCostExpectedCost1', 'ShareBasedCompensationArrangementByShareBasedPaymentAwardEquityInstrumentsOtherThanOptionsGrantsInPeriodWeightedAverageGrantDateFairValue', 'DebtInstrumentBasisSpreadOnVariableRate1'}, 'I': {'CashAndCashEquivalentsFairValueDisclosure', 'OperatingLeaseExpense', 'DerivativeNotionalAmount', 'LineOfCreditFacilityRemainingBorrowingCapacity', 'StockIssuedDuringPeriodSharesNewIssues', 'SharebasedCompensationArrangementBySharebasedPaymentAwardExpirationPeriod', 'LongTermDebt', 'StockRepurchasedAndRetiredDuringPeriodShares', 'RelatedPartyTransactionExpensesFromTransactionsWithRelatedParty', 'Revenues', 'LossContingencyDamagesSoughtValue', 'DefinedBenefitPlanContributionsByEmployer', 'StockRepurchasedDuringPeriodShares', 'GoodwillImpairmentLoss', 'IncomeLossFromEquityMethodInvestments', 'EmployeeServiceShareBasedCompensationNonvestedAwardsTotalCompensationCostNotYetRecognized', 'PreferredStockSharesAuthorized', 'ShareBasedCompensationArrangementByShareBasedPaymentAwardEquityInstrumentsOtherThanOptionsGrantsInPeriod', 'TreasuryStockValueAcquiredCostMethod', 'RepaymentsOfDebt', 'AntidilutiveSecuritiesExcludedFromComputationOfEarningsPerShareAmount', 'TreasuryStockSharesAcquired', 'DeferredFinanceCostsGross', 'NumberOfRealEstateProperties', 'OperatingLossCarryforwards', 'AccrualForEnvironmentalLossContingencies', 'ShareBasedCompensation', 'IncomeTaxExpenseBenefit', 'LossContingencyPendingClaimsNumber', 'ShareBasedCompensationArrangementByShareBasedPaymentAwardOptionsExercisesInPeriodTotalIntrinsicValue', 'AcquiredFiniteLivedIntangibleAssetsWeightedAverageUsefulLife', 'InterestExpense', 'CommonStockSharesOutstanding', 'NumberOfOperatingSegments', 'OperatingLeaseWeightedAverageRemainingLeaseTerm1', 'DebtWeightedAverageInterestRate', 'DebtInstrumentConvertibleConversionPrice1', 'LossContingencyAccrualAtCarryingValue', 'BusinessAcquisitionPercentageOfVotingInterestsAcquired', 'BusinessAcquisitionEquityInterestsIssuedOrIssuableNumberOfSharesIssued', 'LossContingencyEstimateOfPossibleLoss', 'DebtInstrumentUnamortizedDiscount', 'PreferredStockDividendRatePercentage', 'RevenueFromRelatedParties', 'InterestExpenseDebt', 'DebtInstrumentFairValue', 'FiniteLivedIntangibleAssetUsefulLife', 'DerivativeFixedInterestRate', 'MinorityInterestOwnershipPercentageByParent', 'LesseeOperatingLeaseTermOfContract', 'EmployeeServiceShareBasedCompensationNonvestedAwardsTotalCompensationCostNotYetRecognizedShareBasedAwardsOtherThanOptions', 'CommonStockParOrStatedValuePerShare', 'AllocatedShareBasedCompensationExpense', 'DeferredFinanceCostsNet', 'OperatingLeasesRentExpenseNet', 'BusinessCombinationContingentConsiderationLiability', 'RelatedPartyTransactionAmountsOfTransaction', 'LineOfCreditFacilityCommitmentFeePercentage', 'GuaranteeObligationsMaximumExposure', 'BusinessCombinationConsiderationTransferred1', 'AmortizationOfFinancingCosts', 'AreaOfRealEstateProperty', 'ShareBasedCompensationArrangementByShareBasedPaymentAwardOptionsGrantsInPeriodGross', 'DebtInstrumentMaturityDate', 'Goodwill', 'ShareBasedCompensationArrangementByShareBasedPaymentAwardEquityInstrumentsOtherThanOptionsVestedInPeriodTotalFairValue', 'OperatingLeaseRightOfUseAsset', 'DebtInstrumentTerm', 'RestructuringCharges', 'DebtInstrumentFaceAmount', 'LineOfCreditFacilityMaximumBorrowingCapacity', 'EquityMethodInvestments', 'LeaseAndRentalExpense', 'BusinessCombinationRecognizedIdentifiableAssetsAcquiredAndLiabilitiesAssumedIntangibleAssetsOtherThanGoodwill', 'MinorityInterestOwnershipPercentageByNoncontrollingOwners', 'LettersOfCreditOutstandingAmount', 'ShareBasedCompensationArrangementByShareBasedPaymentAwardAwardVestingPeriod1', 'CommonStockDividendsPerShareDeclared', 'CommonStockSharesAuthorized', 'LongTermDebtFairValue', 'LineOfCreditFacilityInterestRateAtPeriodEnd', 'AssetImpairmentCharges', 'ShareBasedCompensationArrangementByShareBasedPaymentAwardEquityInstrumentsOtherThanOptionsNonvestedNumber', 'ShareBasedCompensationArrangementByShareBasedPaymentAwardOptionsGrantsInPeriodWeightedAverageGrantDateFairValue', 'StockRepurchaseProgramAuthorizedAmount1', 'OperatingLeaseCost', 'ConcentrationRiskPercentage1', 'GainsLossesOnExtinguishmentOfDebt', 'ShareBasedCompensationArrangementByShareBasedPaymentAwardNumberOfSharesAvailableForGrant', 'UnrecognizedTaxBenefits', 'DisposalGroupIncludingDiscontinuedOperationConsideration', 'EffectiveIncomeTaxRateReconciliationAtFederalStatutoryIncomeTaxRate', 'RevenueFromContractWithCustomerExcludingAssessedTax', 'DebtInstrumentInterestRateStatedPercentage', 'OperatingLeaseLiability', 'EquityMethodInvestmentOwnershipPercentage', 'ShareBasedCompensationArrangementByShareBasedPaymentAwardNumberOfSharesAuthorized', 'ContractWithCustomerLiability', 'SupplementalInformationForPropertyCasualtyInsuranceUnderwritersPriorYearClaimsAndClaimsAdjustmentExpense', 'LesseeOperatingLeaseRenewalTerm', 'SharebasedCompensationArrangementBySharebasedPaymentAwardAwardVestingRightsPercentage', 'EffectiveIncomeTaxRateContinuingOperations', 'PropertyPlantAndEquipmentUsefulLife', 'Depreciation', 'DefinedContributionPlanCostRecognized', 'BusinessCombinationRecognizedIdentifiableAssetsAcquiredAndLiabilitiesAssumedIntangibles', 'NumberOfReportableSegments', 'DebtInstrumentInterestRateEffectivePercentage', 'RevenueRemainingPerformanceObligation', 'LineOfCredit', 'PublicUtilitiesRequestedRateIncreaseDecreaseAmount', 'OperatingLeaseWeightedAverageDiscountRatePercent', 'RevenueFromContractWithCustomerIncludingAssessedTax', 'DebtInstrumentCarryingAmount', 'SaleOfStockPricePerShare', 'ClassOfWarrantOrRightExercisePriceOfWarrantsOrRights1', 'SharePrice', 'BusinessCombinationAcquisitionRelatedCosts', 'AmortizationOfIntangibleAssets', 'EmployeeServiceShareBasedCompensationNonvestedAwardsTotalCompensationCostNotYetRecognizedPeriodForRecognition1', 'PaymentsToAcquireBusinessesNetOfCashAcquired', 'EmployeeServiceShareBasedCompensationTaxBenefitFromCompensationExpense', 'LineOfCreditFacilityCurrentBorrowingCapacity', 'CapitalizedContractCostAmortization', 'LineOfCreditFacilityUnusedCapacityCommitmentFeePercentage', 'SaleOfStockNumberOfSharesIssuedInTransaction', 'ProceedsFromIssuanceOfCommonStock', 'TreasuryStockAcquiredAverageCostPerShare', 'CommonStockCapitalSharesReservedForFutureIssuance', 'CumulativeEffectOfNewAccountingPrincipleInPeriodOfAdoption', 'OperatingLeasePayments', 'StockRepurchaseProgramRemainingAuthorizedRepurchaseAmount1', 'UnrecognizedTaxBenefitsThatWouldImpactEffectiveTaxRate', 'PaymentsToAcquireBusinessesGross', 'DebtInstrumentRedemptionPricePercentage', 'ContractWithCustomerLiabilityRevenueRecognized', 'RestructuringAndRelatedCostExpectedCost1', 'ShareBasedCompensationArrangementByShareBasedPaymentAwardEquityInstrumentsOtherThanOptionsGrantsInPeriodWeightedAverageGrantDateFairValue', 'DebtInstrumentBasisSpreadOnVariableRate1'}}\n"
     ]
    }
   ],
   "source": [
    "prefix_splits = {\"B\": set(), \"I\": set()}\n",
    "\n",
    "for t in tags[1:]:\n",
    "    prefix, tag = t.split(\"-\")\n",
    "    prefix_splits[prefix].add(tag)\n",
    "\n",
    "print(prefix_splits)    "
   ]
  },
  {
   "cell_type": "code",
   "execution_count": 5,
   "metadata": {},
   "outputs": [
    {
     "data": {
      "text/plain": [
       "set()"
      ]
     },
     "execution_count": 5,
     "metadata": {},
     "output_type": "execute_result"
    }
   ],
   "source": [
    "prefix_splits[\"B\"].symmetric_difference(prefix_splits[\"I\"])"
   ]
  },
  {
   "cell_type": "markdown",
   "metadata": {},
   "source": [
    "So, all tags can have multiple tokens. Now, let's take a quick look into `B-` tags distribution and an idea of which ones come in multiple tokens more often. For that we'll be using a sample of the train set."
   ]
  },
  {
   "cell_type": "code",
   "execution_count": 6,
   "metadata": {},
   "outputs": [
    {
     "data": {
      "text/plain": [
       "(Dataset({\n",
       "     features: ['id', 'tokens', 'ner_tags'],\n",
       "     num_rows: 450192\n",
       " }),\n",
       " ConcatenationTable\n",
       " id: int32\n",
       " tokens: list<item: string>\n",
       "   child 0, item: string\n",
       " ner_tags: list<item: int64>\n",
       "   child 0, item: int64\n",
       " ----\n",
       " id: [[0,1,2,3,4,...,995,996,997,998,999],[1000,1001,1002,1003,1004,...,1995,1996,1997,1998,1999],...,[899000,899001,899002,899003,899004,...,899995,899996,899997,899998,899999],[900000,900001,900002,900003,900004,...,900379,900380,900381,900382,900383]]\n",
       " tokens: [[[\"ITEM\",\"1\",\"Financial\",\"Statements\",\"Lennar\",...,\"in\",\"Lennar\",\"Multifamily\",\"assets\",\".\"],[\"See\",\"accompanying\",\"notes\",\"to\",\"condensed\",...,\"“\",\"Company\",\"”\",\")\",\".\"],...,[\"In\",\"addition\",\",\",\"the\",\"Company\",...,\"November\",\"30\",\",\",\"2015\",\".\"],[\"The\",\"Company\",\"’\",\"s\",\"financial\",...,\",\",\"2015\",\",\",\"respectively\",\".\"]],[[\"Additionally\",\",\",\"at\",\"August\",\"31\",...,\"related\",\"to\",\"pending\",\"litigation\",\".\"],[\"As\",\"of\",\"August\",\"31\",\",\",...,\"to\",\"these\",\"site\",\"improvements\",\".\"],...,[\"As\",\"a\",\"result\",\",\",\"we\",...,\"be\",\"paid\",\"through\",\"2019\",\".\"],[\"The\",\"amounts\",\"recorded\",\"were\",\"reflected\",...,\",\",\"2016\",\",\",\"respectively\",\".\"]],...,[[\"Capital\",\"expenditures\",\"were\",\"primarily\",\"incurred\",...,\"efficiencies\",\"and\",\"reduce\",\"costs\",\".\"],[\"Management\",\"is\",\"therefore\",\"not\",\"certain\",...,\"assets\",\"held\",\"for\",\"sale\",\".\"],...,[\"18\",\"Foreign\",\"Operations\",\"and\",\"Other\",\".\"],[\"For\",\"both\",\"the\",\"three\",\"month\",...,\"derived\",\"from\",\"U.S.\",\"operations\",\".\"]],[[\"For\",\"the\",\"three\",\"month\",\"periods\",...,\"wireless\",\"operations\",\"in\",\"Mexico\",\".\"],[\"As\",\"of\",\"March\",\"31\",\",\",...,\",\",\"less\",\"deferred\",\"revenue\",\".\"],...,[\"Such\",\"charges\",\"or\",\"reimbursements\",\"are\",...,\"first\",\"quarter\",\"of\",\"2019\",\".\"],[\"29\",\"Table\",\"of\",\"Contents\",\"Item\",\"2\",\".\"]]]\n",
       " ner_tags: [[[0,0,0,0,0,...,0,0,0,0,0],[0,0,0,0,0,...,0,0,0,0,0],...,[0,0,0,0,0,...,0,0,0,0,0],[0,0,0,0,0,...,0,0,0,0,0]],[[0,0,0,0,0,...,0,0,0,0,0],[0,0,0,0,0,...,0,0,0,0,0],...,[0,0,0,0,0,...,0,0,0,0,0],[0,0,0,0,0,...,0,0,0,0,0]],...,[[0,0,0,0,0,...,0,0,0,0,0],[0,0,0,0,0,...,0,0,0,0,0],...,[0,0,0,0,0,0],[0,0,0,0,0,...,0,0,0,0,0]],[[0,0,0,0,0,...,0,0,0,0,0],[0,0,0,0,0,...,0,0,0,0,0],...,[0,0,0,0,0,...,0,0,0,0,0],[0,0,0,0,0,0,0]]])"
      ]
     },
     "execution_count": 6,
     "metadata": {},
     "output_type": "execute_result"
    }
   ],
   "source": [
    "train_sample = ds[\"train\"].shuffle(42).select(range(ds[\"train\"].num_rows//2))\n",
    "train_sample, train_sample.data"
   ]
  },
  {
   "cell_type": "code",
   "execution_count": 7,
   "metadata": {},
   "outputs": [],
   "source": [
    "# counting documents\n",
    "counter_docs = [0]*len(tags)\n",
    "for s in train_sample:\n",
    "    counted = [0]*len(tags)\n",
    "    for t in s[\"ner_tags\"]:\n",
    "        if not counted[t]:\n",
    "            counter_docs[t] += 1\n",
    "            counted[t] = 1\n"
   ]
  },
  {
   "cell_type": "code",
   "execution_count": 8,
   "metadata": {},
   "outputs": [],
   "source": [
    "# counting documents\n",
    "counter_tokens = [0]*len(tags)\n",
    "for s in train_sample:\n",
    "    for t in s[\"ner_tags\"]:\n",
    "        counter_tokens[t] += 1"
   ]
  },
  {
   "cell_type": "code",
   "execution_count": 9,
   "metadata": {},
   "outputs": [
    {
     "data": {
      "text/html": [
       "<div>\n",
       "<style scoped>\n",
       "    .dataframe tbody tr th:only-of-type {\n",
       "        vertical-align: middle;\n",
       "    }\n",
       "\n",
       "    .dataframe tbody tr th {\n",
       "        vertical-align: top;\n",
       "    }\n",
       "\n",
       "    .dataframe thead th {\n",
       "        text-align: right;\n",
       "    }\n",
       "</style>\n",
       "<table border=\"1\" class=\"dataframe\">\n",
       "  <thead>\n",
       "    <tr style=\"text-align: right;\">\n",
       "      <th></th>\n",
       "      <th>tag</th>\n",
       "      <th>n_docs</th>\n",
       "      <th>n_tokens</th>\n",
       "      <th>prefix</th>\n",
       "    </tr>\n",
       "  </thead>\n",
       "  <tbody>\n",
       "    <tr>\n",
       "      <th>0</th>\n",
       "      <td>O</td>\n",
       "      <td>450192</td>\n",
       "      <td>20265782</td>\n",
       "      <td>NaN</td>\n",
       "    </tr>\n",
       "    <tr>\n",
       "      <th>41</th>\n",
       "      <td>B-DebtInstrumentInterestRateStatedPercentage</td>\n",
       "      <td>5298</td>\n",
       "      <td>7669</td>\n",
       "      <td>B-</td>\n",
       "    </tr>\n",
       "    <tr>\n",
       "      <th>87</th>\n",
       "      <td>B-LineOfCreditFacilityMaximumBorrowingCapacity</td>\n",
       "      <td>4287</td>\n",
       "      <td>5833</td>\n",
       "      <td>B-</td>\n",
       "    </tr>\n",
       "    <tr>\n",
       "      <th>34</th>\n",
       "      <td>B-DebtInstrumentBasisSpreadOnVariableRate1</td>\n",
       "      <td>2666</td>\n",
       "      <td>5756</td>\n",
       "      <td>B-</td>\n",
       "    </tr>\n",
       "    <tr>\n",
       "      <th>37</th>\n",
       "      <td>B-DebtInstrumentFaceAmount</td>\n",
       "      <td>4163</td>\n",
       "      <td>5378</td>\n",
       "      <td>B-</td>\n",
       "    </tr>\n",
       "  </tbody>\n",
       "</table>\n",
       "</div>"
      ],
      "text/plain": [
       "                                               tag  n_docs  n_tokens prefix\n",
       "0                                                O  450192  20265782    NaN\n",
       "41    B-DebtInstrumentInterestRateStatedPercentage    5298      7669     B-\n",
       "87  B-LineOfCreditFacilityMaximumBorrowingCapacity    4287      5833     B-\n",
       "34      B-DebtInstrumentBasisSpreadOnVariableRate1    2666      5756     B-\n",
       "37                      B-DebtInstrumentFaceAmount    4163      5378     B-"
      ]
     },
     "execution_count": 9,
     "metadata": {},
     "output_type": "execute_result"
    }
   ],
   "source": [
    "import pandas as pd\n",
    "\n",
    "counter_df = pd.DataFrame({\"tag\": tags, \"n_docs\": counter_docs, \"n_tokens\": counter_tokens})\n",
    "counter_df[\"prefix\"] = counter_df[\"tag\"].str.extract(\"(B-|I-)\")\n",
    "counter_df.sort_values(\"n_tokens\", ascending=False).head()"
   ]
  },
  {
   "cell_type": "code",
   "execution_count": 10,
   "metadata": {},
   "outputs": [
    {
     "data": {
      "text/plain": [
       "<Axes: ylabel='tag'>"
      ]
     },
     "execution_count": 10,
     "metadata": {},
     "output_type": "execute_result"
    },
    {
     "data": {
      "image/png": "[encoded data removed]",
      "text/plain": [
       "<Figure size 640x480 with 1 Axes>"
      ]
     },
     "metadata": {},
     "output_type": "display_data"
    }
   ],
   "source": [
    "counter_df[counter_df[\"prefix\"]==\"B-\"].sort_values(by=[\"n_tokens\"], ascending=False)[:15].plot.barh(x=\"tag\")"
   ]
  },
  {
   "cell_type": "code",
   "execution_count": 11,
   "metadata": {},
   "outputs": [
    {
     "data": {
      "text/html": [
       "<div>\n",
       "<style scoped>\n",
       "    .dataframe tbody tr th:only-of-type {\n",
       "        vertical-align: middle;\n",
       "    }\n",
       "\n",
       "    .dataframe tbody tr th {\n",
       "        vertical-align: top;\n",
       "    }\n",
       "\n",
       "    .dataframe thead th {\n",
       "        text-align: right;\n",
       "    }\n",
       "</style>\n",
       "<table border=\"1\" class=\"dataframe\">\n",
       "  <thead>\n",
       "    <tr style=\"text-align: right;\">\n",
       "      <th></th>\n",
       "      <th>tag</th>\n",
       "      <th>n_docs</th>\n",
       "      <th>n_tokens</th>\n",
       "      <th>prefix</th>\n",
       "    </tr>\n",
       "  </thead>\n",
       "  <tbody>\n",
       "    <tr>\n",
       "      <th>41</th>\n",
       "      <td>B-DebtInstrumentInterestRateStatedPercentage</td>\n",
       "      <td>5298</td>\n",
       "      <td>7669</td>\n",
       "      <td>B-</td>\n",
       "    </tr>\n",
       "    <tr>\n",
       "      <th>87</th>\n",
       "      <td>B-LineOfCreditFacilityMaximumBorrowingCapacity</td>\n",
       "      <td>4287</td>\n",
       "      <td>5833</td>\n",
       "      <td>B-</td>\n",
       "    </tr>\n",
       "    <tr>\n",
       "      <th>34</th>\n",
       "      <td>B-DebtInstrumentBasisSpreadOnVariableRate1</td>\n",
       "      <td>2666</td>\n",
       "      <td>5756</td>\n",
       "      <td>B-</td>\n",
       "    </tr>\n",
       "    <tr>\n",
       "      <th>37</th>\n",
       "      <td>B-DebtInstrumentFaceAmount</td>\n",
       "      <td>4163</td>\n",
       "      <td>5378</td>\n",
       "      <td>B-</td>\n",
       "    </tr>\n",
       "    <tr>\n",
       "      <th>4</th>\n",
       "      <td>B-AllocatedShareBasedCompensationExpense</td>\n",
       "      <td>1929</td>\n",
       "      <td>4426</td>\n",
       "      <td>B-</td>\n",
       "    </tr>\n",
       "    <tr>\n",
       "      <th>8</th>\n",
       "      <td>B-AntidilutiveSecuritiesExcludedFromComputatio...</td>\n",
       "      <td>1887</td>\n",
       "      <td>3810</td>\n",
       "      <td>B-</td>\n",
       "    </tr>\n",
       "    <tr>\n",
       "      <th>57</th>\n",
       "      <td>B-EffectiveIncomeTaxRateContinuingOperations</td>\n",
       "      <td>1849</td>\n",
       "      <td>3695</td>\n",
       "      <td>B-</td>\n",
       "    </tr>\n",
       "    <tr>\n",
       "      <th>6</th>\n",
       "      <td>B-AmortizationOfIntangibleAssets</td>\n",
       "      <td>1271</td>\n",
       "      <td>3259</td>\n",
       "      <td>B-</td>\n",
       "    </tr>\n",
       "    <tr>\n",
       "      <th>30</th>\n",
       "      <td>B-ConcentrationRiskPercentage1</td>\n",
       "      <td>1422</td>\n",
       "      <td>2687</td>\n",
       "      <td>B-</td>\n",
       "    </tr>\n",
       "    <tr>\n",
       "      <th>140</th>\n",
       "      <td>B-ShareBasedCompensationArrangementByShareBase...</td>\n",
       "      <td>1677</td>\n",
       "      <td>2360</td>\n",
       "      <td>B-</td>\n",
       "    </tr>\n",
       "    <tr>\n",
       "      <th>64</th>\n",
       "      <td>B-EquityMethodInvestmentOwnershipPercentage</td>\n",
       "      <td>1830</td>\n",
       "      <td>2237</td>\n",
       "      <td>B-</td>\n",
       "    </tr>\n",
       "    <tr>\n",
       "      <th>74</th>\n",
       "      <td>B-IncomeTaxExpenseBenefit</td>\n",
       "      <td>1234</td>\n",
       "      <td>2224</td>\n",
       "      <td>B-</td>\n",
       "    </tr>\n",
       "    <tr>\n",
       "      <th>128</th>\n",
       "      <td>B-RestructuringCharges</td>\n",
       "      <td>1129</td>\n",
       "      <td>2220</td>\n",
       "      <td>B-</td>\n",
       "    </tr>\n",
       "    <tr>\n",
       "      <th>107</th>\n",
       "      <td>B-OperatingLeaseRightOfUseAsset</td>\n",
       "      <td>1840</td>\n",
       "      <td>1925</td>\n",
       "      <td>B-</td>\n",
       "    </tr>\n",
       "    <tr>\n",
       "      <th>83</th>\n",
       "      <td>B-LineOfCredit</td>\n",
       "      <td>1523</td>\n",
       "      <td>1847</td>\n",
       "      <td>B-</td>\n",
       "    </tr>\n",
       "  </tbody>\n",
       "</table>\n",
       "</div>"
      ],
      "text/plain": [
       "                                                   tag  n_docs  n_tokens  \\\n",
       "41        B-DebtInstrumentInterestRateStatedPercentage    5298      7669   \n",
       "87      B-LineOfCreditFacilityMaximumBorrowingCapacity    4287      5833   \n",
       "34          B-DebtInstrumentBasisSpreadOnVariableRate1    2666      5756   \n",
       "37                          B-DebtInstrumentFaceAmount    4163      5378   \n",
       "4             B-AllocatedShareBasedCompensationExpense    1929      4426   \n",
       "8    B-AntidilutiveSecuritiesExcludedFromComputatio...    1887      3810   \n",
       "57        B-EffectiveIncomeTaxRateContinuingOperations    1849      3695   \n",
       "6                     B-AmortizationOfIntangibleAssets    1271      3259   \n",
       "30                      B-ConcentrationRiskPercentage1    1422      2687   \n",
       "140  B-ShareBasedCompensationArrangementByShareBase...    1677      2360   \n",
       "64         B-EquityMethodInvestmentOwnershipPercentage    1830      2237   \n",
       "74                           B-IncomeTaxExpenseBenefit    1234      2224   \n",
       "128                             B-RestructuringCharges    1129      2220   \n",
       "107                    B-OperatingLeaseRightOfUseAsset    1840      1925   \n",
       "83                                      B-LineOfCredit    1523      1847   \n",
       "\n",
       "    prefix  \n",
       "41      B-  \n",
       "87      B-  \n",
       "34      B-  \n",
       "37      B-  \n",
       "4       B-  \n",
       "8       B-  \n",
       "57      B-  \n",
       "6       B-  \n",
       "30      B-  \n",
       "140     B-  \n",
       "64      B-  \n",
       "74      B-  \n",
       "128     B-  \n",
       "107     B-  \n",
       "83      B-  "
      ]
     },
     "execution_count": 11,
     "metadata": {},
     "output_type": "execute_result"
    }
   ],
   "source": [
    "counter_df[counter_df[\"prefix\"]==\"B-\"].sort_values(by=[\"n_tokens\"], ascending=False)[:15]"
   ]
  },
  {
   "cell_type": "code",
   "execution_count": 12,
   "metadata": {},
   "outputs": [
    {
     "data": {
      "text/plain": [
       "[41, 87, 34, 37, 4, 8, 57, 6, 30, 140, 64, 74, 128, 107, 83]"
      ]
     },
     "execution_count": 12,
     "metadata": {},
     "output_type": "execute_result"
    }
   ],
   "source": [
    "most_common = counter_df[counter_df[\"prefix\"]==\"B-\"].sort_values(by=[\"n_tokens\"], ascending=False)[:15].index.tolist()\n",
    "most_common"
   ]
  },
  {
   "cell_type": "markdown",
   "metadata": {},
   "source": [
    "## Selecting tags\n",
    "\n",
    "Above we can see the most common tags (`B-` prefix) in a random 50% sample of the train set. Instead of choosing the top 4 for our training (because we have more data about them), let's instead try visualizing which ones appear together more often. \n",
    "\n",
    "I have limited knowledge of the matter, so I would usually ask the experts on ways that we can filter and select the most relevant tags. But given I don't have access to one right now, selecting tags that appear together more often will filter our dataset to a common topic. Tags with co-appeareance indicate similar documents and thus help us filter down the context in which the model shall operate."
   ]
  },
  {
   "cell_type": "code",
   "execution_count": 13,
   "metadata": {},
   "outputs": [
    {
     "data": {
      "text/plain": [
       "array([[450192.,    452.,    620., ...,      0.,      0.,      0.],\n",
       "       [   452.,    452.,      0., ...,      0.,      0.,      0.],\n",
       "       [   620.,      0.,    620., ...,      0.,      0.,      0.],\n",
       "       ...,\n",
       "       [     0.,      0.,      0., ...,      0.,      0.,      0.],\n",
       "       [     0.,      0.,      0., ...,      0.,      0.,      0.],\n",
       "       [     0.,      0.,      0., ...,      0.,      0.,      0.]])"
      ]
     },
     "execution_count": 13,
     "metadata": {},
     "output_type": "execute_result"
    }
   ],
   "source": [
    "import numpy as np\n",
    "counter = np.zeros((len(tags), len(tags)))\n",
    "for s in train_sample:\n",
    "    filtered = list(set(s[\"ner_tags\"]))\n",
    "    for x in range(len(filtered)):\n",
    "        counted = [0]*len(tags)\n",
    "        counter[filtered[x], filtered[x]] += 1\n",
    "        counted[filtered[x]] = 1\n",
    "        for y in range(x+1, len(filtered)):\n",
    "            if not counted[filtered[y]]:\n",
    "                counter[filtered[x], filtered[y]] += 1\n",
    "                counter[filtered[y], filtered[x]] += 1\n",
    "                counted[filtered[y]] = 1\n",
    "\n",
    "counter\n"
   ]
  },
  {
   "cell_type": "code",
   "execution_count": 14,
   "metadata": {},
   "outputs": [],
   "source": [
    "assert np.array_equal(counter.diagonal(), counter_df[\"n_docs\"].values), \"Got the counter wrong\""
   ]
  },
  {
   "cell_type": "code",
   "execution_count": 15,
   "metadata": {},
   "outputs": [
    {
     "name": "stdout",
     "output_type": "stream",
     "text": [
      "Tag B-DebtInstrumentInterestRateStatedPercentage (5298 docs) appears most commonly with tags:\n",
      "{'B-DebtInstrumentFaceAmount': 1608.0, 'B-DebtInstrumentMaturityDate': 232.0, 'B-DebtInstrumentCarryingAmount': 171.0}\n",
      "Total tokens for the group: 15341\n",
      "Tag B-LineOfCreditFacilityMaximumBorrowingCapacity (4287 docs) appears most commonly with tags:\n",
      "{'B-DebtInstrumentFaceAmount': 249.0, 'B-LineOfCredit': 118.0, 'B-DebtInstrumentBasisSpreadOnVariableRate1': 115.0}\n",
      "Total tokens for the group: 18814\n",
      "Tag B-DebtInstrumentBasisSpreadOnVariableRate1 (2666 docs) appears most commonly with tags:\n",
      "{'B-DebtInstrumentInterestRateStatedPercentage': 119.0, 'B-LineOfCreditFacilityMaximumBorrowingCapacity': 115.0, 'B-DebtInstrumentInterestRateEffectivePercentage': 108.0}\n",
      "Total tokens for the group: 20406\n",
      "Tag B-DebtInstrumentFaceAmount (4163 docs) appears most commonly with tags:\n",
      "{'B-DebtInstrumentInterestRateStatedPercentage': 1608.0, 'B-LineOfCreditFacilityMaximumBorrowingCapacity': 249.0, 'B-DebtInstrumentMaturityDate': 122.0}\n",
      "Total tokens for the group: 19599\n",
      "Tag B-AllocatedShareBasedCompensationExpense (1929 docs) appears most commonly with tags:\n",
      "{'B-EmployeeServiceShareBasedCompensationTaxBenefitFromCompensationExpense': 51.0, 'B-EmployeeServiceShareBasedCompensationNonvestedAwardsTotalCompensationCostNotYetRecognized': 41.0, 'B-EmployeeServiceShareBasedCompensationNonvestedAwardsTotalCompensationCostNotYetRecognizedPeriodForRecognition1': 37.0}\n",
      "Total tokens for the group: 8201\n",
      "Tag B-AntidilutiveSecuritiesExcludedFromComputationOfEarningsPerShareAmount (1887 docs) appears most commonly with tags:\n",
      "{'B-DebtInstrumentInterestRateStatedPercentage': 8.0, 'B-StockRepurchaseProgramAuthorizedAmount1': 7.0, 'B-NumberOfReportableSegments': 6.0}\n",
      "Total tokens for the group: 14565\n",
      "Tag B-EffectiveIncomeTaxRateContinuingOperations (1849 docs) appears most commonly with tags:\n",
      "{'B-IncomeTaxExpenseBenefit': 337.0, 'B-EffectiveIncomeTaxRateReconciliationAtFederalStatutoryIncomeTaxRate': 113.0, 'B-UnrecognizedTaxBenefits': 3.0}\n",
      "Total tokens for the group: 7888\n",
      "Tag B-AmortizationOfIntangibleAssets (1271 docs) appears most commonly with tags:\n",
      "{'B-FiniteLivedIntangibleAssetUsefulLife': 16.0, 'B-Goodwill': 7.0, 'B-AcquiredFiniteLivedIntangibleAssetsWeightedAverageUsefulLife': 6.0}\n",
      "Total tokens for the group: 6691\n",
      "Tag B-ConcentrationRiskPercentage1 (1422 docs) appears most commonly with tags:\n",
      "{'B-RevenueFromContractWithCustomerExcludingAssessedTax': 41.0, 'B-Revenues': 27.0, 'B-RevenueFromContractWithCustomerIncludingAssessedTax': 7.0}\n",
      "Total tokens for the group: 5910\n",
      "Tag B-ShareBasedCompensationArrangementByShareBasedPaymentAwardEquityInstrumentsOtherThanOptionsGrantsInPeriod (1677 docs) appears most commonly with tags:\n",
      "{'B-ShareBasedCompensationArrangementByShareBasedPaymentAwardEquityInstrumentsOtherThanOptionsGrantsInPeriodWeightedAverageGrantDateFairValue': 313.0, 'B-ShareBasedCompensationArrangementByShareBasedPaymentAwardAwardVestingPeriod1': 86.0, 'B-ShareBasedCompensationArrangementByShareBasedPaymentAwardOptionsGrantsInPeriodGross': 55.0}\n",
      "Total tokens for the group: 5499\n",
      "Tag B-EquityMethodInvestmentOwnershipPercentage (1830 docs) appears most commonly with tags:\n",
      "{'B-EquityMethodInvestments': 47.0, 'B-NumberOfRealEstateProperties': 27.0, 'B-AreaOfRealEstateProperty': 13.0}\n",
      "Total tokens for the group: 4455\n",
      "Tag B-IncomeTaxExpenseBenefit (1234 docs) appears most commonly with tags:\n",
      "{'B-EffectiveIncomeTaxRateContinuingOperations': 337.0, 'B-EffectiveIncomeTaxRateReconciliationAtFederalStatutoryIncomeTaxRate': 25.0, 'B-InterestExpense': 15.0}\n",
      "Total tokens for the group: 7536\n",
      "Tag B-RestructuringCharges (1129 docs) appears most commonly with tags:\n",
      "{'B-AssetImpairmentCharges': 20.0, 'B-RestructuringAndRelatedCostExpectedCost1': 9.0, 'B-BusinessCombinationAcquisitionRelatedCosts': 7.0}\n",
      "Total tokens for the group: 4509\n",
      "Tag B-OperatingLeaseRightOfUseAsset (1840 docs) appears most commonly with tags:\n",
      "{'B-OperatingLeaseLiability': 1145.0, 'B-CumulativeEffectOfNewAccountingPrincipleInPeriodOfAdoption': 21.0, 'B-OperatingLeaseWeightedAverageRemainingLeaseTerm1': 9.0}\n",
      "Total tokens for the group: 4640\n",
      "Tag B-LineOfCredit (1523 docs) appears most commonly with tags:\n",
      "{'B-LineOfCreditFacilityRemainingBorrowingCapacity': 227.0, 'B-LettersOfCreditOutstandingAmount': 144.0, 'B-LineOfCreditFacilityMaximumBorrowingCapacity': 118.0}\n",
      "Total tokens for the group: 10515\n"
     ]
    }
   ],
   "source": [
    "best_tag = 0\n",
    "max_tokens = 0\n",
    "\n",
    "for v in most_common:\n",
    "    coappear = counter[v].argsort()[::-1]\n",
    "    btag_coappear = counter_df.iloc[coappear][counter_df.iloc[coappear][\"prefix\"] == \"B-\"].index.values\n",
    "    print(f\"Tag {counter_df.loc[v]['tag']} ({counter_df.loc[v]['n_docs']} docs) appears most commonly with tags:\")\n",
    "    print(dict(zip(counter_df.loc[btag_coappear[1:4]][\"tag\"].values, counter[v, btag_coappear[1:4]])))\n",
    "    \n",
    "    group_tokens = counter_df.loc[btag_coappear[0:4], 'n_tokens'].sum()\n",
    "    print(f\"Total tokens for the group: {group_tokens}\")\n",
    "    if group_tokens > max_tokens:\n",
    "        max_tokens = group_tokens\n",
    "        best_tag = v"
   ]
  },
  {
   "cell_type": "code",
   "execution_count": 16,
   "metadata": {},
   "outputs": [
    {
     "name": "stdout",
     "output_type": "stream",
     "text": [
      "Best tag is B-DebtInstrumentBasisSpreadOnVariableRate1 with group total of 20406 tokens.\n"
     ]
    }
   ],
   "source": [
    "print(f\"Best tag is {counter_df.iloc[best_tag]['tag']} with group total of {max_tokens} tokens.\")"
   ]
  },
  {
   "cell_type": "markdown",
   "metadata": {},
   "source": [
    "As we can see, the most common tags to appear with `B-DebtInstrumentBasisSpreadOnVariableRate1` seem similar in context:\n",
    "`['B-DebtInstrumentInterestRateStatedPercentage' 'B-LineOfCreditFacilityMaximumBorrowingCapacity' 'B-DebtInstrumentInterestRateEffectivePercentage']`\n",
    "\n",
    "According to Calcbench:\n",
    "- `DebtInstrumentBasisSpreadOnVariableRate1` means \"Percentage points added to the reference rate to compute the variable rate on the debt instrument.\"\n",
    "- `DebtInstrumentInterestRateStatedPercentage` means \"Contractual interest rate for funds borrowed, under the debt agreement.\"\n",
    "- `LineOfCreditFacilityMaximumBorrowingCapacity` means \"Maximum borrowing capacity under the credit facility without consideration of any current restrictions on the amount that could be borrowed or the amounts currently outstanding under the facility.\"\n",
    "- `DebtInstrumentInterestRateEffectivePercentage` means \"Effective interest rate for the funds borrowed under the debt agreement considering interest compounding and original issue discount or premium.\"\n",
    "\n",
    "These tags seem to commonly appear together in financial documents as they provide a detailed overview of the terms and conditions of debt instruments.\n",
    "\n",
    "It seems we've proved our hypothesis of filtering topics. Instead of blindly picking the most common tags, it seems more logical to go with relatively common but connected tags. This way our model will likely see documents that are similar in context and should grasp a better idea of how these tags appear due to the context. So, let's chose the most common tag and the three most \"correlated\" to it. In our case, we'll include `B-` and `I-` prefixes, so it's technically 8 tags."
   ]
  },
  {
   "cell_type": "code",
   "execution_count": 17,
   "metadata": {},
   "outputs": [
    {
     "data": {
      "text/html": [
       "<div>\n",
       "<style scoped>\n",
       "    .dataframe tbody tr th:only-of-type {\n",
       "        vertical-align: middle;\n",
       "    }\n",
       "\n",
       "    .dataframe tbody tr th {\n",
       "        vertical-align: top;\n",
       "    }\n",
       "\n",
       "    .dataframe thead th {\n",
       "        text-align: right;\n",
       "    }\n",
       "</style>\n",
       "<table border=\"1\" class=\"dataframe\">\n",
       "  <thead>\n",
       "    <tr style=\"text-align: right;\">\n",
       "      <th></th>\n",
       "      <th>tag</th>\n",
       "      <th>n_docs</th>\n",
       "      <th>n_tokens</th>\n",
       "      <th>prefix</th>\n",
       "    </tr>\n",
       "  </thead>\n",
       "  <tbody>\n",
       "    <tr>\n",
       "      <th>34</th>\n",
       "      <td>B-DebtInstrumentBasisSpreadOnVariableRate1</td>\n",
       "      <td>2666</td>\n",
       "      <td>5756</td>\n",
       "      <td>B-</td>\n",
       "    </tr>\n",
       "    <tr>\n",
       "      <th>41</th>\n",
       "      <td>B-DebtInstrumentInterestRateStatedPercentage</td>\n",
       "      <td>5298</td>\n",
       "      <td>7669</td>\n",
       "      <td>B-</td>\n",
       "    </tr>\n",
       "    <tr>\n",
       "      <th>87</th>\n",
       "      <td>B-LineOfCreditFacilityMaximumBorrowingCapacity</td>\n",
       "      <td>4287</td>\n",
       "      <td>5833</td>\n",
       "      <td>B-</td>\n",
       "    </tr>\n",
       "    <tr>\n",
       "      <th>40</th>\n",
       "      <td>B-DebtInstrumentInterestRateEffectivePercentage</td>\n",
       "      <td>905</td>\n",
       "      <td>1148</td>\n",
       "      <td>B-</td>\n",
       "    </tr>\n",
       "  </tbody>\n",
       "</table>\n",
       "</div>"
      ],
      "text/plain": [
       "                                                tag  n_docs  n_tokens prefix\n",
       "34       B-DebtInstrumentBasisSpreadOnVariableRate1    2666      5756     B-\n",
       "41     B-DebtInstrumentInterestRateStatedPercentage    5298      7669     B-\n",
       "87   B-LineOfCreditFacilityMaximumBorrowingCapacity    4287      5833     B-\n",
       "40  B-DebtInstrumentInterestRateEffectivePercentage     905      1148     B-"
      ]
     },
     "execution_count": 17,
     "metadata": {},
     "output_type": "execute_result"
    }
   ],
   "source": [
    "v = best_tag\n",
    "coappear = counter[v].argsort()[::-1]\n",
    "btag_coappear = counter_df.iloc[coappear][counter_df.iloc[coappear][\"prefix\"] == \"B-\"].index.values\n",
    "filtered_tags = counter_df.iloc[btag_coappear[:4]]\n",
    "filtered_tags"
   ]
  },
  {
   "cell_type": "code",
   "execution_count": 18,
   "metadata": {},
   "outputs": [
    {
     "data": {
      "text/html": [
       "<div>\n",
       "<style scoped>\n",
       "    .dataframe tbody tr th:only-of-type {\n",
       "        vertical-align: middle;\n",
       "    }\n",
       "\n",
       "    .dataframe tbody tr th {\n",
       "        vertical-align: top;\n",
       "    }\n",
       "\n",
       "    .dataframe thead th {\n",
       "        text-align: right;\n",
       "    }\n",
       "</style>\n",
       "<table border=\"1\" class=\"dataframe\">\n",
       "  <thead>\n",
       "    <tr style=\"text-align: right;\">\n",
       "      <th></th>\n",
       "      <th>tag</th>\n",
       "      <th>n_docs</th>\n",
       "      <th>n_tokens</th>\n",
       "      <th>prefix</th>\n",
       "    </tr>\n",
       "  </thead>\n",
       "  <tbody>\n",
       "    <tr>\n",
       "      <th>212</th>\n",
       "      <td>I-DebtInstrumentInterestRateEffectivePercentage</td>\n",
       "      <td>0</td>\n",
       "      <td>0</td>\n",
       "      <td>I-</td>\n",
       "    </tr>\n",
       "    <tr>\n",
       "      <th>204</th>\n",
       "      <td>I-DebtInstrumentBasisSpreadOnVariableRate1</td>\n",
       "      <td>0</td>\n",
       "      <td>0</td>\n",
       "      <td>I-</td>\n",
       "    </tr>\n",
       "    <tr>\n",
       "      <th>199</th>\n",
       "      <td>I-LineOfCreditFacilityMaximumBorrowingCapacity</td>\n",
       "      <td>0</td>\n",
       "      <td>0</td>\n",
       "      <td>I-</td>\n",
       "    </tr>\n",
       "    <tr>\n",
       "      <th>178</th>\n",
       "      <td>I-DebtInstrumentInterestRateStatedPercentage</td>\n",
       "      <td>0</td>\n",
       "      <td>0</td>\n",
       "      <td>I-</td>\n",
       "    </tr>\n",
       "    <tr>\n",
       "      <th>40</th>\n",
       "      <td>B-DebtInstrumentInterestRateEffectivePercentage</td>\n",
       "      <td>905</td>\n",
       "      <td>1148</td>\n",
       "      <td>B-</td>\n",
       "    </tr>\n",
       "    <tr>\n",
       "      <th>34</th>\n",
       "      <td>B-DebtInstrumentBasisSpreadOnVariableRate1</td>\n",
       "      <td>2666</td>\n",
       "      <td>5756</td>\n",
       "      <td>B-</td>\n",
       "    </tr>\n",
       "    <tr>\n",
       "      <th>87</th>\n",
       "      <td>B-LineOfCreditFacilityMaximumBorrowingCapacity</td>\n",
       "      <td>4287</td>\n",
       "      <td>5833</td>\n",
       "      <td>B-</td>\n",
       "    </tr>\n",
       "    <tr>\n",
       "      <th>41</th>\n",
       "      <td>B-DebtInstrumentInterestRateStatedPercentage</td>\n",
       "      <td>5298</td>\n",
       "      <td>7669</td>\n",
       "      <td>B-</td>\n",
       "    </tr>\n",
       "  </tbody>\n",
       "</table>\n",
       "</div>"
      ],
      "text/plain": [
       "                                                 tag  n_docs  n_tokens prefix\n",
       "212  I-DebtInstrumentInterestRateEffectivePercentage       0         0     I-\n",
       "204       I-DebtInstrumentBasisSpreadOnVariableRate1       0         0     I-\n",
       "199   I-LineOfCreditFacilityMaximumBorrowingCapacity       0         0     I-\n",
       "178     I-DebtInstrumentInterestRateStatedPercentage       0         0     I-\n",
       "40   B-DebtInstrumentInterestRateEffectivePercentage     905      1148     B-\n",
       "34        B-DebtInstrumentBasisSpreadOnVariableRate1    2666      5756     B-\n",
       "87    B-LineOfCreditFacilityMaximumBorrowingCapacity    4287      5833     B-\n",
       "41      B-DebtInstrumentInterestRateStatedPercentage    5298      7669     B-"
      ]
     },
     "execution_count": 18,
     "metadata": {},
     "output_type": "execute_result"
    }
   ],
   "source": [
    "full_tags = filtered_tags[\"tag\"].str.extract(\".-(.*)\")[0].values\n",
    "full_tags = counter_df[counter_df[\"tag\"].str.extract(\".-(.*)\")[0].isin(full_tags)]\n",
    "full_tags.sort_values(by=\"n_docs\")"
   ]
  },
  {
   "cell_type": "markdown",
   "metadata": {},
   "source": [
    "It seems none of these tags have intermediate entity presence, so we'll ignore the `I-` classes."
   ]
  },
  {
   "cell_type": "code",
   "execution_count": 19,
   "metadata": {},
   "outputs": [],
   "source": [
    "filtered_tags[\"tag\"].to_json(\"../src/tags.json\", indent=4)"
   ]
  },
  {
   "cell_type": "code",
   "execution_count": 20,
   "metadata": {},
   "outputs": [
    {
     "name": "stdout",
     "output_type": "stream",
     "text": [
      "Overwriting ../src/data.py\n"
     ]
    }
   ],
   "source": [
    "%%writefile ../src/data.py\n",
    "import json\n",
    "import os\n",
    "import random\n",
    "from pprint import pprint\n",
    "\n",
    "from datasets import ClassLabel, DatasetDict, Sequence\n",
    "\n",
    "\n",
    "def load_tags():\n",
    "    LOCALPATH = os.path.realpath(os.path.join(os.getcwd(), os.path.dirname(__file__)))\n",
    "\n",
    "    with open(os.path.join(LOCALPATH, \"tags.json\")) as f:\n",
    "        content: dict = json.load(f)\n",
    "        pprint(content)\n",
    "        ids, names = list(zip(*[(int(k), v) for k, v in content.items()]))\n",
    "        return list(ids), list(names)\n",
    "\n",
    "\n",
    "TAG_IDS, TAG_NAMES = load_tags()\n",
    "print(TAG_IDS, TAG_NAMES)\n",
    "\n",
    "\n",
    "def retag(sample: dict) -> dict:\n",
    "    \"\"\"Annotates all non-selected tags as O.\"\"\"\n",
    "    new_tags = []\n",
    "    for t in sample[\"ner_tags\"]:\n",
    "        if t not in TAG_IDS:\n",
    "            new_tags.append(0)\n",
    "        else:\n",
    "            new_tags.append(TAG_IDS.index(t) + 1)\n",
    "    sample[\"ner_tags\"] = new_tags\n",
    "    return sample\n",
    "\n",
    "\n",
    "def filter_empty(sample: dict) -> dict:\n",
    "    \"\"\"Returns only samples that contain at least one selected tag. Otherwise, randomly returns 0.1% of empty samples\"\"\"\n",
    "    SEED = 42\n",
    "    contains_tag = any([t > 0 for t in sample[\"ner_tags\"]])\n",
    "    random.seed(SEED)\n",
    "    return contains_tag or random.randint(1, 1000) == SEED\n",
    "\n",
    "\n",
    "def process(dataset: DatasetDict):\n",
    "    mapped = dataset.map(retag, num_proc=os.cpu_count(), load_from_cache_file=False)\n",
    "    filtered = mapped.filter(filter_empty, num_proc=os.cpu_count(), load_from_cache_file=False)\n",
    "    return filtered.cast_column(\"ner_tags\", Sequence(ClassLabel(names=[\"O\"] + TAG_NAMES)))\n"
   ]
  },
  {
   "cell_type": "code",
   "execution_count": 21,
   "metadata": {},
   "outputs": [
    {
     "name": "stdout",
     "output_type": "stream",
     "text": [
      "{'34': 'B-DebtInstrumentBasisSpreadOnVariableRate1',\n",
      " '40': 'B-DebtInstrumentInterestRateEffectivePercentage',\n",
      " '41': 'B-DebtInstrumentInterestRateStatedPercentage',\n",
      " '87': 'B-LineOfCreditFacilityMaximumBorrowingCapacity'}\n",
      "[34, 41, 87, 40] ['B-DebtInstrumentBasisSpreadOnVariableRate1', 'B-DebtInstrumentInterestRateStatedPercentage', 'B-LineOfCreditFacilityMaximumBorrowingCapacity', 'B-DebtInstrumentInterestRateEffectivePercentage']\n"
     ]
    },
    {
     "name": "stderr",
     "output_type": "stream",
     "text": [
      "Map (num_proc=16): 100%|██████████| 900384/900384 [00:04<00:00, 194596.86 examples/s]\n",
      "Map (num_proc=16): 100%|██████████| 112494/112494 [00:00<00:00, 158329.21 examples/s]\n",
      "Map (num_proc=16): 100%|██████████| 108378/108378 [00:00<00:00, 153509.53 examples/s]\n",
      "Filter (num_proc=16): 100%|██████████| 900384/900384 [00:04<00:00, 214459.47 examples/s]\n",
      "Filter (num_proc=16): 100%|██████████| 112494/112494 [00:00<00:00, 169539.20 examples/s]\n",
      "Filter (num_proc=16): 100%|██████████| 108378/108378 [00:00<00:00, 163769.21 examples/s]"
     ]
    },
    {
     "name": "stdout",
     "output_type": "stream",
     "text": [
      "DatasetDict({\n",
      "    train: Dataset({\n",
      "        features: ['id', 'tokens', 'ner_tags'],\n",
      "        num_rows: 25343\n",
      "    })\n",
      "    validation: Dataset({\n",
      "        features: ['id', 'tokens', 'ner_tags'],\n",
      "        num_rows: 3402\n",
      "    })\n",
      "    test: Dataset({\n",
      "        features: ['id', 'tokens', 'ner_tags'],\n",
      "        num_rows: 2737\n",
      "    })\n",
      "})\n",
      "{'id': Value(dtype='int32', id=None), 'tokens': Sequence(feature=Value(dtype='string', id=None), length=-1, id=None), 'ner_tags': Sequence(feature=ClassLabel(names=['O', 'B-DebtInstrumentBasisSpreadOnVariableRate1', 'B-DebtInstrumentInterestRateStatedPercentage', 'B-LineOfCreditFacilityMaximumBorrowingCapacity', 'B-DebtInstrumentInterestRateEffectivePercentage'], id=None), length=-1, id=None)}\n"
     ]
    },
    {
     "name": "stderr",
     "output_type": "stream",
     "text": [
      "\n"
     ]
    }
   ],
   "source": [
    "import os\n",
    "import sys\n",
    "sys.path.append(\"../\")\n",
    "\n",
    "from src.data import process\n",
    "\n",
    "processed = process(ds)\n",
    "print(processed)\n",
    "print(processed[\"train\"].features)"
   ]
  },
  {
   "cell_type": "code",
   "execution_count": 22,
   "metadata": {},
   "outputs": [
    {
     "name": "stdout",
     "output_type": "stream",
     "text": [
      "5\n"
     ]
    },
    {
     "data": {
      "text/html": [
       "<div>\n",
       "<style scoped>\n",
       "    .dataframe tbody tr th:only-of-type {\n",
       "        vertical-align: middle;\n",
       "    }\n",
       "\n",
       "    .dataframe tbody tr th {\n",
       "        vertical-align: top;\n",
       "    }\n",
       "\n",
       "    .dataframe thead th {\n",
       "        text-align: right;\n",
       "    }\n",
       "</style>\n",
       "<table border=\"1\" class=\"dataframe\">\n",
       "  <thead>\n",
       "    <tr style=\"text-align: right;\">\n",
       "      <th></th>\n",
       "      <th>tag</th>\n",
       "      <th>frequency</th>\n",
       "    </tr>\n",
       "  </thead>\n",
       "  <tbody>\n",
       "    <tr>\n",
       "      <th>0</th>\n",
       "      <td>O</td>\n",
       "      <td>1356091</td>\n",
       "    </tr>\n",
       "    <tr>\n",
       "      <th>1</th>\n",
       "      <td>B-DebtInstrumentBasisSpreadOnVariableRate1</td>\n",
       "      <td>11445</td>\n",
       "    </tr>\n",
       "    <tr>\n",
       "      <th>2</th>\n",
       "      <td>B-DebtInstrumentInterestRateStatedPercentage</td>\n",
       "      <td>15208</td>\n",
       "    </tr>\n",
       "    <tr>\n",
       "      <th>3</th>\n",
       "      <td>B-LineOfCreditFacilityMaximumBorrowingCapacity</td>\n",
       "      <td>11693</td>\n",
       "    </tr>\n",
       "    <tr>\n",
       "      <th>4</th>\n",
       "      <td>B-DebtInstrumentInterestRateEffectivePercentage</td>\n",
       "      <td>2338</td>\n",
       "    </tr>\n",
       "  </tbody>\n",
       "</table>\n",
       "</div>"
      ],
      "text/plain": [
       "                                               tag  frequency\n",
       "0                                                O    1356091\n",
       "1       B-DebtInstrumentBasisSpreadOnVariableRate1      11445\n",
       "2     B-DebtInstrumentInterestRateStatedPercentage      15208\n",
       "3   B-LineOfCreditFacilityMaximumBorrowingCapacity      11693\n",
       "4  B-DebtInstrumentInterestRateEffectivePercentage       2338"
      ]
     },
     "execution_count": 22,
     "metadata": {},
     "output_type": "execute_result"
    }
   ],
   "source": [
    "\n",
    "n_classes = processed[\"train\"].features[\"ner_tags\"].feature.num_classes\n",
    "print(n_classes)\n",
    "counter = [0]*n_classes\n",
    "for s in processed[\"train\"]:\n",
    "    for t in s[\"ner_tags\"]:\n",
    "        counter[t] += 1\n",
    "\n",
    "pd.DataFrame(zip(processed[\"train\"].features[\"ner_tags\"].feature.names, counter), columns=[\"tag\", \"frequency\"])"
   ]
  },
  {
   "cell_type": "markdown",
   "metadata": {},
   "source": [
    "This will leave us with only ~2.8% of the whole dataset, which seems ok for a fine-tuning task on a limited topic. Will of course include documents from different topics, to make sure the model sees other similar tokens that should not be annotated with one of the selected tags."
   ]
  },
  {
   "cell_type": "markdown",
   "metadata": {},
   "source": []
  }
 ],
 "metadata": {
  "kernelspec": {
   "display_name": ".venv",
   "language": "python",
   "name": "python3"
  },
  "language_info": {
   "codemirror_mode": {
    "name": "ipython",
    "version": 3
   },
   "file_extension": ".py",
   "mimetype": "text/x-python",
   "name": "python",
   "nbconvert_exporter": "python",
   "pygments_lexer": "ipython3",
   "version": "3.10.14"
  }
 },
 "nbformat": 4,
 "nbformat_minor": 2
}
